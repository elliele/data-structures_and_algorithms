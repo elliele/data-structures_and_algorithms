{
 "cells": [
  {
   "cell_type": "code",
   "execution_count": 11,
   "metadata": {},
   "outputs": [],
   "source": [
    "import copy"
   ]
  },
  {
   "cell_type": "markdown",
   "metadata": {},
   "source": [
    "R-7.2\n",
    "\n",
    "Describe a good algorithm for concatenating two singly linked lists L and M, given only references to the first node of each list, into a single list L' that contains all the nodes of L followed by all the nodes of M."
   ]
  },
  {
   "cell_type": "markdown",
   "metadata": {},
   "source": [
    "**Answer**"
   ]
  },
  {
   "cell_type": "code",
   "execution_count": 4,
   "metadata": {},
   "outputs": [],
   "source": [
    "class Empty(Exception):\n",
    "    pass"
   ]
  },
  {
   "cell_type": "code",
   "execution_count": 5,
   "metadata": {},
   "outputs": [],
   "source": [
    "class LinkedStack:\n",
    "    \"\"\"LIFO Stack implementation using a singly linked list for storage.\"\"\"\n",
    "    \n",
    "    class _Node:\n",
    "        __slots__ = '_element', '_next'\n",
    "        \n",
    "        def __init__(self, element, nxt):\n",
    "            self._element = element\n",
    "            self._next = nxt\n",
    "        \n",
    "    \n",
    "    def __init__(self):\n",
    "        self._head = None\n",
    "        self._size = 0\n",
    "        \n",
    "    def __len__(self):\n",
    "        return self._size\n",
    "    \n",
    "    def __iter__(self):\n",
    "        cur = self._head\n",
    "        while cur is not None:\n",
    "            yield cur._element\n",
    "            cur = cur._next\n",
    "        \n",
    "    def is_empty(self):\n",
    "        return self._size == 0\n",
    "    \n",
    "    def push(self, e):\n",
    "        self._head = self._Node(e, self._head)\n",
    "        self._size += 1\n",
    "        \n",
    "    def top(self):\n",
    "        if self.is_empty():\n",
    "            raise Empty('Stack is empty')\n",
    "        return self._head._element\n",
    "    \n",
    "    def pop(self):\n",
    "        if self.is_empty():\n",
    "            raise Empty('Stack is empty')\n",
    "        answer = self._head._element\n",
    "        self._head = self._head._next\n",
    "        self._size -= 1\n",
    "        return answer"
   ]
  },
  {
   "cell_type": "code",
   "execution_count": 6,
   "metadata": {},
   "outputs": [],
   "source": [
    "L = LinkedStack()"
   ]
  },
  {
   "cell_type": "code",
   "execution_count": 7,
   "metadata": {},
   "outputs": [
    {
     "data": {
      "text/plain": [
       "[3, 4, 5]"
      ]
     },
     "execution_count": 7,
     "metadata": {},
     "output_type": "execute_result"
    }
   ],
   "source": [
    "L.push(5)\n",
    "L.push(4)\n",
    "L.push(3)\n",
    "[i for i in L]"
   ]
  },
  {
   "cell_type": "code",
   "execution_count": 8,
   "metadata": {},
   "outputs": [
    {
     "data": {
      "text/plain": [
       "[1, 2, 3]"
      ]
     },
     "execution_count": 8,
     "metadata": {},
     "output_type": "execute_result"
    }
   ],
   "source": [
    "M = LinkedStack()\n",
    "M.push(3)\n",
    "M.push(2)\n",
    "M.push(1)\n",
    "[i for i in M]"
   ]
  },
  {
   "cell_type": "markdown",
   "metadata": {},
   "source": [
    "Making a new LinkedStack is less efficient (n pop & n push for each list) than just making the base list's last node to designate the head of the list ot be appended (n references for traversing)."
   ]
  },
  {
   "cell_type": "code",
   "execution_count": 9,
   "metadata": {},
   "outputs": [],
   "source": [
    "def concatenate_singly_linked_stack(base, append):\n",
    "    \n",
    "    base = copy.deepcopy(base)\n",
    "    append = copy.deepcopy(append)\n",
    "    \n",
    "    base_last = None\n",
    "    cur = base._head\n",
    "    while True: # Need to traverse whole list since LinkedStack does not keep its last node\n",
    "        if cur._next is None:\n",
    "            base_last = cur\n",
    "            break\n",
    "        cur = cur._next\n",
    "    base_last._next = append._head\n",
    "    base._size += append._size\n",
    "    return base"
   ]
  },
  {
   "cell_type": "code",
   "execution_count": 12,
   "metadata": {},
   "outputs": [],
   "source": [
    "concat_list = concatenate_singly_linked_stack(L, M)"
   ]
  },
  {
   "cell_type": "code",
   "execution_count": 13,
   "metadata": {},
   "outputs": [
    {
     "data": {
      "text/plain": [
       "[3, 4, 5, 1, 2, 3]"
      ]
     },
     "execution_count": 13,
     "metadata": {},
     "output_type": "execute_result"
    }
   ],
   "source": [
    "[i for i in concat_list]"
   ]
  },
  {
   "cell_type": "markdown",
   "metadata": {},
   "source": [
    "### R-7.3\n",
    "\n",
    "Describe a recursive algorithm that counts the number of nodes in a singly linked list."
   ]
  },
  {
   "cell_type": "code",
   "execution_count": 1,
   "metadata": {},
   "outputs": [],
   "source": [
    "def recursive_count(list_head):\n",
    "    \"\"\"\n",
    "    list head: head reference to a list\n",
    "    \"\"\"\n",
    "    if list_head._next is None:\n",
    "        return 1\n",
    "    else:\n",
    "        return 1 + recursive_count(list_head._next)"
   ]
  },
  {
   "cell_type": "code",
   "execution_count": 14,
   "metadata": {},
   "outputs": [
    {
     "data": {
      "text/plain": [
       "6"
      ]
     },
     "execution_count": 14,
     "metadata": {},
     "output_type": "execute_result"
    }
   ],
   "source": [
    "recursive_count(concat_list._head)"
   ]
  },
  {
   "cell_type": "markdown",
   "metadata": {},
   "source": [
    "### R.7-7\n",
    "\n",
    "Our CircularQueue class provides a rotate() method that has semantics equivalent to Q.enqueue(Q.dequeue()), for a nonempty queue. Implement such a method for the LinkedQueue class without the creation of any new nodes."
   ]
  },
  {
   "cell_type": "code",
   "execution_count": 15,
   "metadata": {},
   "outputs": [],
   "source": [
    "class LinkedQueue:\n",
    "    \n",
    "    class _Node:\n",
    "        __slots__ = '_element', '_next'\n",
    "        \n",
    "        def __init__(self, element, nxt):\n",
    "            self._element = element\n",
    "            self._next = nxt\n",
    "    \n",
    "    def __init__(self):\n",
    "        self._head = None\n",
    "        self._tail = None\n",
    "        self._size = 0\n",
    "        \n",
    "    def __len__(self):\n",
    "        return self._size\n",
    "    \n",
    "    def __iter__(self):\n",
    "        cur = self._head\n",
    "        while cur is not None:\n",
    "            yield cur._element\n",
    "            cur = cur._next\n",
    "    \n",
    "    def is_empty(self):\n",
    "        return self._size == 0\n",
    "    \n",
    "    def first(self):\n",
    "        if self.is_empty():\n",
    "            raise Empty(\"Queue is empty\")\n",
    "        return self._head._element\n",
    "    \n",
    "    def dequeue(self):\n",
    "        \n",
    "        if self.is_empty():\n",
    "            raise Empty(\"Queue is empty\")\n",
    "        answer = self._head._element\n",
    "        self._head = self._head._next\n",
    "        self._size -= 1\n",
    "        if self.is_empty():\n",
    "            self._tail = None\n",
    "        return answer\n",
    "    \n",
    "    def enqueue(self, e):\n",
    "        \n",
    "        newest = self._Node(e, None)\n",
    "        if self.is_empty():\n",
    "            self._head = newest\n",
    "        else:\n",
    "            self._tail._next = newest\n",
    "        self._tail = newest"
   ]
  },
  {
   "cell_type": "markdown",
   "metadata": {},
   "source": [
    "rotate method in LinkedQueue should dequeue the first element and insert back into its tail by enqueue"
   ]
  },
  {
   "cell_type": "code",
   "execution_count": 22,
   "metadata": {},
   "outputs": [],
   "source": [
    "def rotate(self):\n",
    "    if self._size > 0:\n",
    "        old_head = self._head\n",
    "        self._head = old_head._next\n",
    "        self._tail._next = old_head\n",
    "        old_head._next = None\n",
    "        \n",
    "LinkedQueue.rotate = rotate\n",
    "        "
   ]
  },
  {
   "cell_type": "code",
   "execution_count": 23,
   "metadata": {},
   "outputs": [],
   "source": [
    "q = LinkedQueue()\n",
    "q.enqueue(5)\n",
    "q.enqueue(4)\n",
    "q.enqueue(3)\n",
    "q.enqueue(2)\n",
    "q.enqueue(1)"
   ]
  },
  {
   "cell_type": "code",
   "execution_count": 24,
   "metadata": {},
   "outputs": [],
   "source": [
    "q.rotate()"
   ]
  },
  {
   "cell_type": "code",
   "execution_count": 25,
   "metadata": {},
   "outputs": [
    {
     "data": {
      "text/plain": [
       "[1]"
      ]
     },
     "execution_count": 25,
     "metadata": {},
     "output_type": "execute_result"
    }
   ],
   "source": [
    "[i for i in q]"
   ]
  },
  {
   "cell_type": "code",
   "execution_count": null,
   "metadata": {},
   "outputs": [],
   "source": []
  }
 ],
 "metadata": {
  "kernelspec": {
   "display_name": "Python 3",
   "language": "python",
   "name": "python3"
  },
  "language_info": {
   "codemirror_mode": {
    "name": "ipython",
    "version": 3
   },
   "file_extension": ".py",
   "mimetype": "text/x-python",
   "name": "python",
   "nbconvert_exporter": "python",
   "pygments_lexer": "ipython3",
   "version": "3.8.5"
  }
 },
 "nbformat": 4,
 "nbformat_minor": 4
}
