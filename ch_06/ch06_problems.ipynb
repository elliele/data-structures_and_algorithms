{
 "cells": [
  {
   "cell_type": "markdown",
   "metadata": {},
   "source": [
    "### R-6.3\n",
    "Implement a function with signature transfer(S, T) that transfers all elements from stack S onto stack T, so that the element that starts at the top of S is the first to be inserted onto T, and the element at the bottom of S ends up at the top of T."
   ]
  },
  {
   "cell_type": "code",
   "execution_count": 4,
   "metadata": {},
   "outputs": [],
   "source": [
    "class Empty(Exception):\n",
    "    pass"
   ]
  },
  {
   "cell_type": "code",
   "execution_count": 2,
   "metadata": {},
   "outputs": [],
   "source": [
    "class ArrayStack:\n",
    "    \"\"\"LIFO Stack implementatino using a Python list as underlying storage.\"\"\"\n",
    "    \n",
    "    def __init__(self):\n",
    "        self._data = []\n",
    "        \n",
    "    def __len__(self):\n",
    "        return len(self._data)\n",
    "    \n",
    "    def is_empty(self):\n",
    "        return len(self._data) == 0\n",
    "    \n",
    "    def push(self, e):\n",
    "        self._data.append(e)\n",
    "        \n",
    "    def top(self):\n",
    "        if self.is_empty():\n",
    "            raise Empty('Stack is empty')\n",
    "        return self._data[-1]\n",
    "    \n",
    "    def pop(self):\n",
    "        if self.is_empty():\n",
    "            raise Empty('Stack is empty')\n",
    "        return self._data.pop()"
   ]
  },
  {
   "cell_type": "code",
   "execution_count": 3,
   "metadata": {},
   "outputs": [],
   "source": [
    "class ArrayStack:\n",
    "    \"\"\"LIFO Stack implementation using a Python list as underlying storage.\"\"\"\n",
    "    def __init__(self):\n",
    "        self._data = []\n",
    "    \n",
    "    @property\n",
    "    def data(self):\n",
    "        return self._data\n",
    "    \n",
    "    def __len__(self):\n",
    "        return len(self._data)\n",
    "    \n",
    "    def is_empty(self):\n",
    "        return len(self._data) == 0\n",
    "    \n",
    "    def push(self, e):\n",
    "        self._data.append(e)\n",
    "        \n",
    "    def top(self):\n",
    "        if self.is_empty():\n",
    "            raise Empty('Stack is empty')\n",
    "        return self._data[-1]\n",
    "    \n",
    "    def pop(self):\n",
    "        if self.is_empty():\n",
    "            raise Empty('Stack is empty')\n",
    "        return self._data.pop()\n",
    "    \n",
    "    def transfer(self, S: ArrayStack) -> None:\n",
    "        stck_len = len(self._data)\n",
    "        [S.push(self.pop()) for _ in range(stck_len)]"
   ]
  },
  {
   "cell_type": "code",
   "execution_count": 7,
   "metadata": {},
   "outputs": [],
   "source": [
    "x  = ArrayStack()\n",
    "for i in range(10):\n",
    "    x.push(i)"
   ]
  },
  {
   "cell_type": "code",
   "execution_count": 8,
   "metadata": {},
   "outputs": [
    {
     "data": {
      "text/plain": [
       "[0, 1, 2, 3, 4, 5, 6, 7, 8, 9]"
      ]
     },
     "execution_count": 8,
     "metadata": {},
     "output_type": "execute_result"
    }
   ],
   "source": [
    "x.data"
   ]
  },
  {
   "cell_type": "code",
   "execution_count": 9,
   "metadata": {},
   "outputs": [],
   "source": [
    "y = ArrayStack()"
   ]
  },
  {
   "cell_type": "code",
   "execution_count": 10,
   "metadata": {},
   "outputs": [],
   "source": [
    "x.transfer(y)"
   ]
  },
  {
   "cell_type": "code",
   "execution_count": 11,
   "metadata": {},
   "outputs": [
    {
     "data": {
      "text/plain": [
       "[9, 8, 7, 6, 5, 4, 3, 2, 1, 0]"
      ]
     },
     "execution_count": 11,
     "metadata": {},
     "output_type": "execute_result"
    }
   ],
   "source": [
    "y.data"
   ]
  },
  {
   "cell_type": "markdown",
   "metadata": {},
   "source": [
    "### R-6.4\n",
    "\n",
    "Give a recursive method for removing all elements from a stack."
   ]
  },
  {
   "cell_type": "code",
   "execution_count": 4,
   "metadata": {},
   "outputs": [],
   "source": [
    "class ArrayStack:\n",
    "    \"\"\"LIFO Stack implementatino using a Python list as underlying storage.\"\"\"\n",
    "    \n",
    "    def __init__(self):\n",
    "        self._data = []\n",
    "    \n",
    "    @property\n",
    "    def data(self):\n",
    "        return self._data\n",
    "    \n",
    "    def __len__(self):\n",
    "        return len(self._data)\n",
    "    \n",
    "    def is_empty(self):\n",
    "        return len(self._data) == 0\n",
    "    \n",
    "    def push(self, e):\n",
    "        self._data.append(e)\n",
    "        \n",
    "    def top(self):\n",
    "        if self.is_empty():\n",
    "            raise Empty('Stack is empty')\n",
    "        return self._data[-1]\n",
    "    \n",
    "    def pop(self):\n",
    "        if self.is_empty():\n",
    "            raise Empty('Stack is empty')\n",
    "        return self._data.pop()\n",
    "    \n",
    "    def transfer(self, S: ArrayStack) -> None:\n",
    "        stck_len = len(self._data)\n",
    "        (S.push(self.pop()) for _ in range(stck_len))\n",
    "        \n",
    "    def pop_all(self):\n",
    "        if self.data:\n",
    "            self.pop()\n",
    "            return self.pop_all()"
   ]
  },
  {
   "cell_type": "code",
   "execution_count": 5,
   "metadata": {},
   "outputs": [],
   "source": [
    "x = ArrayStack()"
   ]
  },
  {
   "cell_type": "code",
   "execution_count": 7,
   "metadata": {},
   "outputs": [
    {
     "data": {
      "text/plain": [
       "[0, 1, 2, 3, 4, 5, 6, 7, 8, 9]"
      ]
     },
     "execution_count": 7,
     "metadata": {},
     "output_type": "execute_result"
    }
   ],
   "source": [
    "for i in range(10):\n",
    "    x.push(i)\n",
    "x.data"
   ]
  },
  {
   "cell_type": "code",
   "execution_count": 9,
   "metadata": {},
   "outputs": [],
   "source": [
    "x.pop_all()\n"
   ]
  },
  {
   "cell_type": "code",
   "execution_count": 10,
   "metadata": {},
   "outputs": [
    {
     "data": {
      "text/plain": [
       "[]"
      ]
     },
     "execution_count": 10,
     "metadata": {},
     "output_type": "execute_result"
    }
   ],
   "source": [
    "x.data"
   ]
  },
  {
   "cell_type": "markdown",
   "metadata": {},
   "source": [
    "### R-6.7\n",
    "\n",
    "What values are returned during the following sequence of queue operations, if executed on an initially empty queue?\n",
    "\n",
    "enqueue(5), enqueue(3), dequeue(), enqueue(2), enqueue(8), dequeue(), dequeue(), enqueue(9), enqueue(1), dequeue(), enqueue(7), enqueue(6), dequeue(), dequeue(), enqueue(4), dequeue(), dequeue()"
   ]
  },
  {
   "cell_type": "code",
   "execution_count": 16,
   "metadata": {},
   "outputs": [],
   "source": [
    "class ArrayQueue:\n",
    "    DEFAULT_CAPACITY = 10\n",
    "    \n",
    "    def __init__ (self):\n",
    "        self._data = [None] * ArrayQueue.DEFAULT_CAPACITY\n",
    "        self._size = 0\n",
    "        self._front = 0\n",
    "        \n",
    "    def __len__(self):\n",
    "        return self._size\n",
    "    \n",
    "    def is_empty(self):\n",
    "        return self._size == 0\n",
    "    \n",
    "    def first(self):\n",
    "        if self.is_empty():\n",
    "            raise Empty(\"Queue is empty\")\n",
    "        return self._data[self._front]\n",
    "\n",
    "    def dequeue(self):\n",
    "        if self.is_empty():\n",
    "            raise Empty(\"Queue is empty\")\n",
    "        answer = self._data[self._front]\n",
    "        self._data[self._front] = None\n",
    "        self._front = (self._front + 1) % len(self._data)\n",
    "        self._size -= 1\n",
    "        \n",
    "    def enqueue(self, e):\n",
    "        if self._size == len(self._data):\n",
    "            self._resize(2 * len(self._data))\n",
    "        avail = (self._front + self._size) % len(self._data)\n",
    "        self._data[avail] = e\n",
    "        self._size += 1\n",
    "        \n",
    "    def _resize(self, cap):\n",
    "        old = self._data\n",
    "        self._data = None * cap\n",
    "        walk = self._front\n",
    "        for k in range(self._size):\n",
    "            self._data[k] = old[walk]\n",
    "            walk = (1 + walk) % len(old)\n",
    "        self._front = 0"
   ]
  },
  {
   "cell_type": "code",
   "execution_count": 17,
   "metadata": {},
   "outputs": [],
   "source": [
    "x = ArrayQueue()"
   ]
  },
  {
   "cell_type": "code",
   "execution_count": 21,
   "metadata": {},
   "outputs": [],
   "source": [
    "x.enqueue(5)\n",
    "x.enqueue(3)\n",
    "x.dequeue()\n",
    "x.enqueue(2)\n",
    "x.enqueue(8)\n",
    "x.dequeue()\n",
    "x.dequeue()\n",
    "x.enqueue(9)\n",
    "x.enqueue(1)\n",
    "x.dequeue()\n",
    "x.enqueue(7)\n",
    "x.enqueue(6)\n",
    "x.dequeue()\n",
    "x.dequeue()\n",
    "x.enqueue(4)\n",
    "x.dequeue()\n",
    "x.dequeue()"
   ]
  },
  {
   "cell_type": "markdown",
   "metadata": {},
   "source": [
    "### C-6.16\n",
    "\n",
    "Modify the ArrayStack implementation so that the stack's capacity is limited to maxlen elements, where maxlen is an optional parameter to the constructor (that defaults to None). If push is called when the stack is at full capacity, throw a Full exception (defined similarly to Empty)."
   ]
  },
  {
   "cell_type": "code",
   "execution_count": 22,
   "metadata": {},
   "outputs": [],
   "source": [
    "# Stack\n",
    "\n",
    "class Empty(Exception):\n",
    "    \"\"\"Error attempting to access an element from an empty container.\"\"\"\n",
    "    pass\n",
    "\n",
    "class Full(Exception):\n",
    "    \"\"\"Error when stack is full\"\"\"\n",
    "    pass\n",
    "\n",
    "class ArrayStack:\n",
    "    \"\"\"LIFO Stack implementation using a Python list as underlying storage.\"\"\"\n",
    "    \n",
    "    def __init__(self, maxlen=None):\n",
    "        \"\"\"Create an empty stack.\"\"\"\n",
    "        self._data = []\n",
    "        self._maxlen = maxlen\n",
    "        \n",
    "    def __len__(self):\n",
    "        \"\"\"Return the number of elements in the stack.\"\"\"\n",
    "        return len(self._data)\n",
    "    \n",
    "    def is_empty(self):\n",
    "        \"\"\"Return True if the stack is empty.\"\"\"\n",
    "        return len(self._data) == 0\n",
    "    \n",
    "    def push(self, e):\n",
    "        \"\"\"Add element e to the top of the stack.\"\"\"\n",
    "        if self._maxlen is not None and (len(self._data) >= self._maxlen):\n",
    "            raise Full('Stack is full')\n",
    "        self._data.append(e)\n",
    "        \n",
    "    def top(self):\n",
    "        \"\"\"Return (but do not remove) the element at the top of the stack.\n",
    "        \n",
    "        Raise Empty exception if the stack is empty.\"\"\"\n",
    "        \n",
    "        if self.is_empty():\n",
    "            raise Empty('Stack is empty')\n",
    "        return self._data[-1]\n",
    "    \n",
    "    def pop(self):\n",
    "        \"\"\"Remove and return the element from the top of the stack(i.e., LIFO)\n",
    "        \n",
    "        Raise Empty exception if the stack is empty.\"\"\"\n",
    "        if self.is_empty():\n",
    "            raise Empty('Stack is empty')\n",
    "        return self._data.pop()"
   ]
  },
  {
   "cell_type": "code",
   "execution_count": 23,
   "metadata": {},
   "outputs": [],
   "source": [
    "sample = ArrayStack(5)"
   ]
  },
  {
   "cell_type": "code",
   "execution_count": 24,
   "metadata": {},
   "outputs": [],
   "source": [
    "sample.push(2)\n",
    "sample.push(3)\n",
    "sample.push(4)\n",
    "sample.push(5)\n",
    "sample.push(6)"
   ]
  },
  {
   "cell_type": "code",
   "execution_count": 25,
   "metadata": {},
   "outputs": [
    {
     "ename": "Full",
     "evalue": "Stack is full",
     "output_type": "error",
     "traceback": [
      "\u001b[1;31m---------------------------------------------------------------------------\u001b[0m",
      "\u001b[1;31mFull\u001b[0m                                      Traceback (most recent call last)",
      "\u001b[1;32m<ipython-input-25-183ca5c81fe5>\u001b[0m in \u001b[0;36m<module>\u001b[1;34m\u001b[0m\n\u001b[1;32m----> 1\u001b[1;33m \u001b[0msample\u001b[0m\u001b[1;33m.\u001b[0m\u001b[0mpush\u001b[0m\u001b[1;33m(\u001b[0m\u001b[1;36m7\u001b[0m\u001b[1;33m)\u001b[0m\u001b[1;33m\u001b[0m\u001b[1;33m\u001b[0m\u001b[0m\n\u001b[0m",
      "\u001b[1;32m<ipython-input-22-2180b1ef732e>\u001b[0m in \u001b[0;36mpush\u001b[1;34m(self, e)\u001b[0m\n\u001b[0;32m     28\u001b[0m         \u001b[1;34m\"\"\"Add element e to the top of the stack.\"\"\"\u001b[0m\u001b[1;33m\u001b[0m\u001b[1;33m\u001b[0m\u001b[0m\n\u001b[0;32m     29\u001b[0m         \u001b[1;32mif\u001b[0m \u001b[0mself\u001b[0m\u001b[1;33m.\u001b[0m\u001b[0m_maxlen\u001b[0m \u001b[1;32mis\u001b[0m \u001b[1;32mnot\u001b[0m \u001b[1;32mNone\u001b[0m \u001b[1;32mand\u001b[0m \u001b[1;33m(\u001b[0m\u001b[0mlen\u001b[0m\u001b[1;33m(\u001b[0m\u001b[0mself\u001b[0m\u001b[1;33m.\u001b[0m\u001b[0m_data\u001b[0m\u001b[1;33m)\u001b[0m \u001b[1;33m>=\u001b[0m \u001b[0mself\u001b[0m\u001b[1;33m.\u001b[0m\u001b[0m_maxlen\u001b[0m\u001b[1;33m)\u001b[0m\u001b[1;33m:\u001b[0m\u001b[1;33m\u001b[0m\u001b[1;33m\u001b[0m\u001b[0m\n\u001b[1;32m---> 30\u001b[1;33m             \u001b[1;32mraise\u001b[0m \u001b[0mFull\u001b[0m\u001b[1;33m(\u001b[0m\u001b[1;34m'Stack is full'\u001b[0m\u001b[1;33m)\u001b[0m\u001b[1;33m\u001b[0m\u001b[1;33m\u001b[0m\u001b[0m\n\u001b[0m\u001b[0;32m     31\u001b[0m         \u001b[0mself\u001b[0m\u001b[1;33m.\u001b[0m\u001b[0m_data\u001b[0m\u001b[1;33m.\u001b[0m\u001b[0mappend\u001b[0m\u001b[1;33m(\u001b[0m\u001b[0me\u001b[0m\u001b[1;33m)\u001b[0m\u001b[1;33m\u001b[0m\u001b[1;33m\u001b[0m\u001b[0m\n\u001b[0;32m     32\u001b[0m \u001b[1;33m\u001b[0m\u001b[0m\n",
      "\u001b[1;31mFull\u001b[0m: Stack is full"
     ]
    }
   ],
   "source": [
    "sample.push(7)"
   ]
  },
  {
   "cell_type": "code",
   "execution_count": 26,
   "metadata": {},
   "outputs": [],
   "source": [
    "sample_none = ArrayStack()"
   ]
  },
  {
   "cell_type": "code",
   "execution_count": 28,
   "metadata": {},
   "outputs": [],
   "source": [
    "sample_none.push(2)\n",
    "sample_none.push(3)\n",
    "sample_none.push(4)\n",
    "sample_none.push(5)\n",
    "sample_none.push(6)"
   ]
  },
  {
   "cell_type": "code",
   "execution_count": 29,
   "metadata": {},
   "outputs": [],
   "source": [
    "sample_none.push(7)"
   ]
  },
  {
   "cell_type": "markdown",
   "metadata": {},
   "source": [
    "### C-6.17\n",
    "\n",
    "In the previous exercise, we assume that the underlying list is initially empty. Redo that exercise, this time preallocating an underlying list with the length equal to the stack's maximum capacity."
   ]
  },
  {
   "cell_type": "code",
   "execution_count": 30,
   "metadata": {},
   "outputs": [],
   "source": [
    "# Stack\n",
    "\n",
    "class Empty(Exception):\n",
    "    \"\"\"Error attempting to access an element from an empty container.\"\"\"\n",
    "    pass\n",
    "\n",
    "class Full(Exception):\n",
    "    \"\"\"Error when stack is full\"\"\"\n",
    "    pass\n",
    "\n",
    "class ArrayStack:\n",
    "    \"\"\"LIFO Stack implementation using a Python list as underlying storage.\"\"\"\n",
    "\n",
    "    def __init__(self, maxlen=None):\n",
    "        \"\"\"Create an empty stack.\"\"\"\n",
    "        self._data = [] if maxlen is None else [None] * maxlen\n",
    "        self._maxlen = maxlen\n",
    "\n",
    "    def __len__(self):\n",
    "        \"\"\"Return the number of elements in the stack\"\"\"\n",
    "        return len(self._data)\n",
    "\n",
    "    @property\n",
    "    def data(self):\n",
    "        return self._data\n",
    "    \n",
    "    def is_empty(self):\n",
    "        \"\"\"Return True if the stack is empty.\"\"\"\n",
    "        return len(self._data) == 0\n",
    "\n",
    "    def push(self, e):\n",
    "        \"\"\"Add element e to the top of the stack.\"\"\"\n",
    "        \n",
    "        if self._maxlen is not None and (len(self._data) >= self._maxlen):\n",
    "            raise Full('Stack is full.')\n",
    "        self._data.append(e)\n",
    "\n",
    "    def top(self):\n",
    "        \"\"\"Return (but do not remove) the element at the top of the stack.\n",
    "\n",
    "        Raise Empty exception if the stack is empty.\n",
    "        \"\"\"\n",
    "\n",
    "        if self.is_empty():\n",
    "            raise Empty('Stack is empty')\n",
    "        return self._data[-1]\n",
    "\n",
    "    def pop(self):\n",
    "        \"\"\"Remove and return the element from the top of the stack (i.e.,LIFO)\n",
    "\n",
    "        Raise Empty exception if the stack is empty.\n",
    "        \"\"\"\n",
    "        if self.is_empty():\n",
    "            raise Empty('Stack is empty')\n",
    "        return self._data.pop()"
   ]
  },
  {
   "cell_type": "code",
   "execution_count": 31,
   "metadata": {},
   "outputs": [],
   "source": [
    "x = ArrayStack()"
   ]
  },
  {
   "cell_type": "code",
   "execution_count": 32,
   "metadata": {},
   "outputs": [
    {
     "data": {
      "text/plain": [
       "[]"
      ]
     },
     "execution_count": 32,
     "metadata": {},
     "output_type": "execute_result"
    }
   ],
   "source": [
    "x._data"
   ]
  },
  {
   "cell_type": "code",
   "execution_count": 33,
   "metadata": {},
   "outputs": [
    {
     "data": {
      "text/plain": [
       "[None, None, None, None, None, None, None, None, None, None]"
      ]
     },
     "execution_count": 33,
     "metadata": {},
     "output_type": "execute_result"
    }
   ],
   "source": [
    "x = ArrayStack(10)\n",
    "x._data"
   ]
  },
  {
   "cell_type": "markdown",
   "metadata": {},
   "source": [
    "### C-6.23\n",
    "\n",
    "Suppose you have three nonempty stacks R, S, and T. Describe a sequence of operations that results in S storing all elements originally in T below all of S's original elements, with both sets of those elements in their original order. The final configuration for R should be the same as its original configuration. For example, if R = [1,2,3], S=[4,5], and T=[6,7,8,9], the final configuration should have R = [1,2,3] and S = [6,7,8,9,4,5]."
   ]
  },
  {
   "cell_type": "code",
   "execution_count": 36,
   "metadata": {},
   "outputs": [
    {
     "data": {
      "text/plain": [
       "[1, 2, 3]"
      ]
     },
     "execution_count": 36,
     "metadata": {},
     "output_type": "execute_result"
    }
   ],
   "source": [
    "R = ArrayStack()\n",
    "R.push(1)\n",
    "R.push(2)\n",
    "R.push(3)\n",
    "R.data"
   ]
  },
  {
   "cell_type": "code",
   "execution_count": 37,
   "metadata": {},
   "outputs": [
    {
     "data": {
      "text/plain": [
       "[4, 5]"
      ]
     },
     "execution_count": 37,
     "metadata": {},
     "output_type": "execute_result"
    }
   ],
   "source": [
    "S = ArrayStack()\n",
    "S.push(4)\n",
    "S.push(5)\n",
    "S.data"
   ]
  },
  {
   "cell_type": "code",
   "execution_count": 40,
   "metadata": {},
   "outputs": [
    {
     "data": {
      "text/plain": [
       "[6, 7, 8, 9]"
      ]
     },
     "execution_count": 40,
     "metadata": {},
     "output_type": "execute_result"
    }
   ],
   "source": [
    "T = ArrayStack()\n",
    "T.push(6)\n",
    "T.push(7)\n",
    "T.push(8)\n",
    "T.push(9)\n",
    "T.data"
   ]
  },
  {
   "cell_type": "code",
   "execution_count": 41,
   "metadata": {},
   "outputs": [],
   "source": [
    "R.push(S.pop())\n",
    "T.push(S.pop())\n",
    "T.push(R.pop())"
   ]
  },
  {
   "cell_type": "code",
   "execution_count": 42,
   "metadata": {},
   "outputs": [
    {
     "data": {
      "text/plain": [
       "[1, 2, 3]"
      ]
     },
     "execution_count": 42,
     "metadata": {},
     "output_type": "execute_result"
    }
   ],
   "source": [
    "R.data"
   ]
  },
  {
   "cell_type": "code",
   "execution_count": 43,
   "metadata": {},
   "outputs": [
    {
     "data": {
      "text/plain": [
       "[]"
      ]
     },
     "execution_count": 43,
     "metadata": {},
     "output_type": "execute_result"
    }
   ],
   "source": [
    "S.data"
   ]
  },
  {
   "cell_type": "code",
   "execution_count": 44,
   "metadata": {},
   "outputs": [
    {
     "data": {
      "text/plain": [
       "[6, 7, 8, 9, 4, 5]"
      ]
     },
     "execution_count": 44,
     "metadata": {},
     "output_type": "execute_result"
    }
   ],
   "source": [
    "T.data"
   ]
  },
  {
   "cell_type": "code",
   "execution_count": null,
   "metadata": {},
   "outputs": [],
   "source": []
  }
 ],
 "metadata": {
  "kernelspec": {
   "display_name": "Python 3",
   "language": "python",
   "name": "python3"
  },
  "language_info": {
   "codemirror_mode": {
    "name": "ipython",
    "version": 3
   },
   "file_extension": ".py",
   "mimetype": "text/x-python",
   "name": "python",
   "nbconvert_exporter": "python",
   "pygments_lexer": "ipython3",
   "version": "3.8.5"
  }
 },
 "nbformat": 4,
 "nbformat_minor": 4
}
